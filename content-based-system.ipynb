{
 "metadata": {
  "language_info": {
   "codemirror_mode": {
    "name": "ipython",
    "version": 3
   },
   "file_extension": ".py",
   "mimetype": "text/x-python",
   "name": "python",
   "nbconvert_exporter": "python",
   "pygments_lexer": "ipython3",
   "version": "3.8.5"
  },
  "orig_nbformat": 2,
  "kernelspec": {
   "name": "python385jvsc74a57bd01df6b99b5e9756eed4e22fb0d124bf8d9f8552b372ae034d7c6b29f98bd0c98b",
   "display_name": "Python 3.8.5 64-bit ('base': conda)"
  }
 },
 "nbformat": 4,
 "nbformat_minor": 2,
 "cells": [
  {
   "source": [
    "# Objective:\n",
    "Create a recommendation system using a Content Based Model."
   ],
   "cell_type": "markdown",
   "metadata": {}
  },
  {
   "source": [
    "## Get the data"
   ],
   "cell_type": "markdown",
   "metadata": {}
  },
  {
   "cell_type": "code",
   "execution_count": 1,
   "metadata": {
    "tags": []
   },
   "outputs": [],
   "source": [
    "# Get the data\n",
    "!wget -O moviedataset.zip https://cf-courses-data.s3.us.cloud-object-storage.appdomain.cloud/IBMDeveloperSkillsNetwork-ML0101EN-SkillsNetwork/labs/Module%205/data/moviedataset.zip\n",
    "print('unziping ...')\n",
    "!unzip -o -j moviedataset.zip "
   ]
  },
  {
   "source": [
    "## Pre-Processing the Data"
   ],
   "cell_type": "markdown",
   "metadata": {}
  },
  {
   "cell_type": "code",
   "execution_count": 372,
   "metadata": {},
   "outputs": [],
   "source": [
    "import pandas as pd\n",
    "from math import sqrt\n",
    "import numpy as np\n",
    "import matplotlib.pyplot as plt\n",
    "%matplotlib inline"
   ]
  },
  {
   "cell_type": "code",
   "execution_count": 439,
   "metadata": {},
   "outputs": [
    {
     "output_type": "execute_result",
     "data": {
      "text/plain": [
       "   movieId                               title  \\\n",
       "0        1                    Toy Story (1995)   \n",
       "1        2                      Jumanji (1995)   \n",
       "2        3             Grumpier Old Men (1995)   \n",
       "3        4            Waiting to Exhale (1995)   \n",
       "4        5  Father of the Bride Part II (1995)   \n",
       "\n",
       "                                        genres  \n",
       "0  Adventure|Animation|Children|Comedy|Fantasy  \n",
       "1                   Adventure|Children|Fantasy  \n",
       "2                               Comedy|Romance  \n",
       "3                         Comedy|Drama|Romance  \n",
       "4                                       Comedy  "
      ],
      "text/html": "<div>\n<style scoped>\n    .dataframe tbody tr th:only-of-type {\n        vertical-align: middle;\n    }\n\n    .dataframe tbody tr th {\n        vertical-align: top;\n    }\n\n    .dataframe thead th {\n        text-align: right;\n    }\n</style>\n<table border=\"1\" class=\"dataframe\">\n  <thead>\n    <tr style=\"text-align: right;\">\n      <th></th>\n      <th>movieId</th>\n      <th>title</th>\n      <th>genres</th>\n    </tr>\n  </thead>\n  <tbody>\n    <tr>\n      <th>0</th>\n      <td>1</td>\n      <td>Toy Story (1995)</td>\n      <td>Adventure|Animation|Children|Comedy|Fantasy</td>\n    </tr>\n    <tr>\n      <th>1</th>\n      <td>2</td>\n      <td>Jumanji (1995)</td>\n      <td>Adventure|Children|Fantasy</td>\n    </tr>\n    <tr>\n      <th>2</th>\n      <td>3</td>\n      <td>Grumpier Old Men (1995)</td>\n      <td>Comedy|Romance</td>\n    </tr>\n    <tr>\n      <th>3</th>\n      <td>4</td>\n      <td>Waiting to Exhale (1995)</td>\n      <td>Comedy|Drama|Romance</td>\n    </tr>\n    <tr>\n      <th>4</th>\n      <td>5</td>\n      <td>Father of the Bride Part II (1995)</td>\n      <td>Comedy</td>\n    </tr>\n  </tbody>\n</table>\n</div>"
     },
     "metadata": {},
     "execution_count": 439
    }
   ],
   "source": [
    "# Storing the movie information into a pandas dataframe\n",
    "movies_df = pd.read_csv('movies.csv')\n",
    "# Storing the user information into a pandas dataframe\n",
    "ratings_df = pd.read_csv('ratings.csv')\n",
    "\n",
    "movies_df.head()"
   ]
  },
  {
   "source": [
    "### First Pre-Processing Movies DataFrame"
   ],
   "cell_type": "markdown",
   "metadata": {}
  },
  {
   "cell_type": "code",
   "execution_count": 440,
   "metadata": {},
   "outputs": [
    {
     "output_type": "execute_result",
     "data": {
      "text/plain": [
       "    movieId                           title  \\\n",
       "0         1                       Toy Story   \n",
       "1         2                         Jumanji   \n",
       "2         3                Grumpier Old Men   \n",
       "3         4               Waiting to Exhale   \n",
       "4         5     Father of the Bride Part II   \n",
       "5         6                            Heat   \n",
       "6         7                         Sabrina   \n",
       "7         8                    Tom and Huck   \n",
       "8         9                    Sudden Death   \n",
       "9        10                       GoldenEye   \n",
       "10       11         American President, The   \n",
       "11       12     Dracula: Dead and Loving It   \n",
       "12       13                           Balto   \n",
       "13       14                           Nixon   \n",
       "14       15                Cutthroat Island   \n",
       "15       16                          Casino   \n",
       "16       17           Sense and Sensibility   \n",
       "17       18                      Four Rooms   \n",
       "18       19  Ace Ventura: When Nature Calls   \n",
       "19       20                     Money Train   \n",
       "\n",
       "                                         genres  year  \n",
       "0   Adventure|Animation|Children|Comedy|Fantasy  1995  \n",
       "1                    Adventure|Children|Fantasy  1995  \n",
       "2                                Comedy|Romance  1995  \n",
       "3                          Comedy|Drama|Romance  1995  \n",
       "4                                        Comedy  1995  \n",
       "5                         Action|Crime|Thriller  1995  \n",
       "6                                Comedy|Romance  1995  \n",
       "7                            Adventure|Children  1995  \n",
       "8                                        Action  1995  \n",
       "9                     Action|Adventure|Thriller  1995  \n",
       "10                         Comedy|Drama|Romance  1995  \n",
       "11                                Comedy|Horror  1995  \n",
       "12                 Adventure|Animation|Children  1995  \n",
       "13                                        Drama  1995  \n",
       "14                     Action|Adventure|Romance  1995  \n",
       "15                                  Crime|Drama  1995  \n",
       "16                                Drama|Romance  1995  \n",
       "17                                       Comedy  1995  \n",
       "18                                       Comedy  1995  \n",
       "19           Action|Comedy|Crime|Drama|Thriller  1995  "
      ],
      "text/html": "<div>\n<style scoped>\n    .dataframe tbody tr th:only-of-type {\n        vertical-align: middle;\n    }\n\n    .dataframe tbody tr th {\n        vertical-align: top;\n    }\n\n    .dataframe thead th {\n        text-align: right;\n    }\n</style>\n<table border=\"1\" class=\"dataframe\">\n  <thead>\n    <tr style=\"text-align: right;\">\n      <th></th>\n      <th>movieId</th>\n      <th>title</th>\n      <th>genres</th>\n      <th>year</th>\n    </tr>\n  </thead>\n  <tbody>\n    <tr>\n      <th>0</th>\n      <td>1</td>\n      <td>Toy Story</td>\n      <td>Adventure|Animation|Children|Comedy|Fantasy</td>\n      <td>1995</td>\n    </tr>\n    <tr>\n      <th>1</th>\n      <td>2</td>\n      <td>Jumanji</td>\n      <td>Adventure|Children|Fantasy</td>\n      <td>1995</td>\n    </tr>\n    <tr>\n      <th>2</th>\n      <td>3</td>\n      <td>Grumpier Old Men</td>\n      <td>Comedy|Romance</td>\n      <td>1995</td>\n    </tr>\n    <tr>\n      <th>3</th>\n      <td>4</td>\n      <td>Waiting to Exhale</td>\n      <td>Comedy|Drama|Romance</td>\n      <td>1995</td>\n    </tr>\n    <tr>\n      <th>4</th>\n      <td>5</td>\n      <td>Father of the Bride Part II</td>\n      <td>Comedy</td>\n      <td>1995</td>\n    </tr>\n    <tr>\n      <th>5</th>\n      <td>6</td>\n      <td>Heat</td>\n      <td>Action|Crime|Thriller</td>\n      <td>1995</td>\n    </tr>\n    <tr>\n      <th>6</th>\n      <td>7</td>\n      <td>Sabrina</td>\n      <td>Comedy|Romance</td>\n      <td>1995</td>\n    </tr>\n    <tr>\n      <th>7</th>\n      <td>8</td>\n      <td>Tom and Huck</td>\n      <td>Adventure|Children</td>\n      <td>1995</td>\n    </tr>\n    <tr>\n      <th>8</th>\n      <td>9</td>\n      <td>Sudden Death</td>\n      <td>Action</td>\n      <td>1995</td>\n    </tr>\n    <tr>\n      <th>9</th>\n      <td>10</td>\n      <td>GoldenEye</td>\n      <td>Action|Adventure|Thriller</td>\n      <td>1995</td>\n    </tr>\n    <tr>\n      <th>10</th>\n      <td>11</td>\n      <td>American President, The</td>\n      <td>Comedy|Drama|Romance</td>\n      <td>1995</td>\n    </tr>\n    <tr>\n      <th>11</th>\n      <td>12</td>\n      <td>Dracula: Dead and Loving It</td>\n      <td>Comedy|Horror</td>\n      <td>1995</td>\n    </tr>\n    <tr>\n      <th>12</th>\n      <td>13</td>\n      <td>Balto</td>\n      <td>Adventure|Animation|Children</td>\n      <td>1995</td>\n    </tr>\n    <tr>\n      <th>13</th>\n      <td>14</td>\n      <td>Nixon</td>\n      <td>Drama</td>\n      <td>1995</td>\n    </tr>\n    <tr>\n      <th>14</th>\n      <td>15</td>\n      <td>Cutthroat Island</td>\n      <td>Action|Adventure|Romance</td>\n      <td>1995</td>\n    </tr>\n    <tr>\n      <th>15</th>\n      <td>16</td>\n      <td>Casino</td>\n      <td>Crime|Drama</td>\n      <td>1995</td>\n    </tr>\n    <tr>\n      <th>16</th>\n      <td>17</td>\n      <td>Sense and Sensibility</td>\n      <td>Drama|Romance</td>\n      <td>1995</td>\n    </tr>\n    <tr>\n      <th>17</th>\n      <td>18</td>\n      <td>Four Rooms</td>\n      <td>Comedy</td>\n      <td>1995</td>\n    </tr>\n    <tr>\n      <th>18</th>\n      <td>19</td>\n      <td>Ace Ventura: When Nature Calls</td>\n      <td>Comedy</td>\n      <td>1995</td>\n    </tr>\n    <tr>\n      <th>19</th>\n      <td>20</td>\n      <td>Money Train</td>\n      <td>Action|Comedy|Crime|Drama|Thriller</td>\n      <td>1995</td>\n    </tr>\n  </tbody>\n</table>\n</div>"
     },
     "metadata": {},
     "execution_count": 440
    }
   ],
   "source": [
    "#Using regular expressions to find a year stored between parentheses\n",
    "#We specify the parantheses so we don't conflict with movies that have years in their titles\n",
    "movies_df['year'] = movies_df.title.str.extract('(\\(\\d\\d\\d\\d\\))',expand=False)\n",
    "#Removing the parentheses\n",
    "movies_df['year'] = movies_df.year.str.extract('(\\d\\d\\d\\d)',expand=False)\n",
    "#Removing the years from the 'title' column\n",
    "movies_df['title'] = movies_df.title.str.replace('(\\(\\d\\d\\d\\d\\))', '')\n",
    "#Applying the strip function to get rid of any ending whitespace characters that may have appeared\n",
    "movies_df['title'] = movies_df['title'].apply(lambda x: x.strip())\n",
    "movies_df.head(20)"
   ]
  },
  {
   "cell_type": "code",
   "execution_count": 441,
   "metadata": {},
   "outputs": [
    {
     "output_type": "execute_result",
     "data": {
      "text/plain": [
       "   movieId                        title  \\\n",
       "0        1                    Toy Story   \n",
       "1        2                      Jumanji   \n",
       "2        3             Grumpier Old Men   \n",
       "3        4            Waiting to Exhale   \n",
       "4        5  Father of the Bride Part II   \n",
       "\n",
       "                                              genres  year  \n",
       "0  [Adventure, Animation, Children, Comedy, Fantasy]  1995  \n",
       "1                     [Adventure, Children, Fantasy]  1995  \n",
       "2                                  [Comedy, Romance]  1995  \n",
       "3                           [Comedy, Drama, Romance]  1995  \n",
       "4                                           [Comedy]  1995  "
      ],
      "text/html": "<div>\n<style scoped>\n    .dataframe tbody tr th:only-of-type {\n        vertical-align: middle;\n    }\n\n    .dataframe tbody tr th {\n        vertical-align: top;\n    }\n\n    .dataframe thead th {\n        text-align: right;\n    }\n</style>\n<table border=\"1\" class=\"dataframe\">\n  <thead>\n    <tr style=\"text-align: right;\">\n      <th></th>\n      <th>movieId</th>\n      <th>title</th>\n      <th>genres</th>\n      <th>year</th>\n    </tr>\n  </thead>\n  <tbody>\n    <tr>\n      <th>0</th>\n      <td>1</td>\n      <td>Toy Story</td>\n      <td>[Adventure, Animation, Children, Comedy, Fantasy]</td>\n      <td>1995</td>\n    </tr>\n    <tr>\n      <th>1</th>\n      <td>2</td>\n      <td>Jumanji</td>\n      <td>[Adventure, Children, Fantasy]</td>\n      <td>1995</td>\n    </tr>\n    <tr>\n      <th>2</th>\n      <td>3</td>\n      <td>Grumpier Old Men</td>\n      <td>[Comedy, Romance]</td>\n      <td>1995</td>\n    </tr>\n    <tr>\n      <th>3</th>\n      <td>4</td>\n      <td>Waiting to Exhale</td>\n      <td>[Comedy, Drama, Romance]</td>\n      <td>1995</td>\n    </tr>\n    <tr>\n      <th>4</th>\n      <td>5</td>\n      <td>Father of the Bride Part II</td>\n      <td>[Comedy]</td>\n      <td>1995</td>\n    </tr>\n  </tbody>\n</table>\n</div>"
     },
     "metadata": {},
     "execution_count": 441
    }
   ],
   "source": [
    "#Every genre is separated by a | so we simply have to call the split function on |\n",
    "movies_df['genres'] = movies_df.genres.str.split('|')\n",
    "movies_df.head()"
   ]
  },
  {
   "source": [
    "Since keeping genres in a list format isn't optimal for the content-based recommendation system technique, we will use the One Hot Encoding technique to convert the list of genres to a vector where each column corresponds to one possible value of the feature. This encoding is needed for feeding categorical data.\n"
   ],
   "cell_type": "markdown",
   "metadata": {}
  },
  {
   "cell_type": "code",
   "execution_count": 442,
   "metadata": {},
   "outputs": [
    {
     "output_type": "execute_result",
     "data": {
      "text/plain": [
       "   movieId                        title  \\\n",
       "0        1                    Toy Story   \n",
       "1        2                      Jumanji   \n",
       "2        3             Grumpier Old Men   \n",
       "3        4            Waiting to Exhale   \n",
       "4        5  Father of the Bride Part II   \n",
       "\n",
       "                                              genres  year  Adventure  \\\n",
       "0  [Adventure, Animation, Children, Comedy, Fantasy]  1995        1.0   \n",
       "1                     [Adventure, Children, Fantasy]  1995        1.0   \n",
       "2                                  [Comedy, Romance]  1995        0.0   \n",
       "3                           [Comedy, Drama, Romance]  1995        0.0   \n",
       "4                                           [Comedy]  1995        0.0   \n",
       "\n",
       "   Animation  Children  Comedy  Fantasy  Romance  ...  Horror  Mystery  \\\n",
       "0        1.0       1.0     1.0      1.0      0.0  ...     0.0      0.0   \n",
       "1        0.0       1.0     0.0      1.0      0.0  ...     0.0      0.0   \n",
       "2        0.0       0.0     1.0      0.0      1.0  ...     0.0      0.0   \n",
       "3        0.0       0.0     1.0      0.0      1.0  ...     0.0      0.0   \n",
       "4        0.0       0.0     1.0      0.0      0.0  ...     0.0      0.0   \n",
       "\n",
       "   Sci-Fi  IMAX  Documentary  War  Musical  Western  Film-Noir  \\\n",
       "0     0.0   0.0          0.0  0.0      0.0      0.0        0.0   \n",
       "1     0.0   0.0          0.0  0.0      0.0      0.0        0.0   \n",
       "2     0.0   0.0          0.0  0.0      0.0      0.0        0.0   \n",
       "3     0.0   0.0          0.0  0.0      0.0      0.0        0.0   \n",
       "4     0.0   0.0          0.0  0.0      0.0      0.0        0.0   \n",
       "\n",
       "   (no genres listed)  \n",
       "0                 0.0  \n",
       "1                 0.0  \n",
       "2                 0.0  \n",
       "3                 0.0  \n",
       "4                 0.0  \n",
       "\n",
       "[5 rows x 24 columns]"
      ],
      "text/html": "<div>\n<style scoped>\n    .dataframe tbody tr th:only-of-type {\n        vertical-align: middle;\n    }\n\n    .dataframe tbody tr th {\n        vertical-align: top;\n    }\n\n    .dataframe thead th {\n        text-align: right;\n    }\n</style>\n<table border=\"1\" class=\"dataframe\">\n  <thead>\n    <tr style=\"text-align: right;\">\n      <th></th>\n      <th>movieId</th>\n      <th>title</th>\n      <th>genres</th>\n      <th>year</th>\n      <th>Adventure</th>\n      <th>Animation</th>\n      <th>Children</th>\n      <th>Comedy</th>\n      <th>Fantasy</th>\n      <th>Romance</th>\n      <th>...</th>\n      <th>Horror</th>\n      <th>Mystery</th>\n      <th>Sci-Fi</th>\n      <th>IMAX</th>\n      <th>Documentary</th>\n      <th>War</th>\n      <th>Musical</th>\n      <th>Western</th>\n      <th>Film-Noir</th>\n      <th>(no genres listed)</th>\n    </tr>\n  </thead>\n  <tbody>\n    <tr>\n      <th>0</th>\n      <td>1</td>\n      <td>Toy Story</td>\n      <td>[Adventure, Animation, Children, Comedy, Fantasy]</td>\n      <td>1995</td>\n      <td>1.0</td>\n      <td>1.0</td>\n      <td>1.0</td>\n      <td>1.0</td>\n      <td>1.0</td>\n      <td>0.0</td>\n      <td>...</td>\n      <td>0.0</td>\n      <td>0.0</td>\n      <td>0.0</td>\n      <td>0.0</td>\n      <td>0.0</td>\n      <td>0.0</td>\n      <td>0.0</td>\n      <td>0.0</td>\n      <td>0.0</td>\n      <td>0.0</td>\n    </tr>\n    <tr>\n      <th>1</th>\n      <td>2</td>\n      <td>Jumanji</td>\n      <td>[Adventure, Children, Fantasy]</td>\n      <td>1995</td>\n      <td>1.0</td>\n      <td>0.0</td>\n      <td>1.0</td>\n      <td>0.0</td>\n      <td>1.0</td>\n      <td>0.0</td>\n      <td>...</td>\n      <td>0.0</td>\n      <td>0.0</td>\n      <td>0.0</td>\n      <td>0.0</td>\n      <td>0.0</td>\n      <td>0.0</td>\n      <td>0.0</td>\n      <td>0.0</td>\n      <td>0.0</td>\n      <td>0.0</td>\n    </tr>\n    <tr>\n      <th>2</th>\n      <td>3</td>\n      <td>Grumpier Old Men</td>\n      <td>[Comedy, Romance]</td>\n      <td>1995</td>\n      <td>0.0</td>\n      <td>0.0</td>\n      <td>0.0</td>\n      <td>1.0</td>\n      <td>0.0</td>\n      <td>1.0</td>\n      <td>...</td>\n      <td>0.0</td>\n      <td>0.0</td>\n      <td>0.0</td>\n      <td>0.0</td>\n      <td>0.0</td>\n      <td>0.0</td>\n      <td>0.0</td>\n      <td>0.0</td>\n      <td>0.0</td>\n      <td>0.0</td>\n    </tr>\n    <tr>\n      <th>3</th>\n      <td>4</td>\n      <td>Waiting to Exhale</td>\n      <td>[Comedy, Drama, Romance]</td>\n      <td>1995</td>\n      <td>0.0</td>\n      <td>0.0</td>\n      <td>0.0</td>\n      <td>1.0</td>\n      <td>0.0</td>\n      <td>1.0</td>\n      <td>...</td>\n      <td>0.0</td>\n      <td>0.0</td>\n      <td>0.0</td>\n      <td>0.0</td>\n      <td>0.0</td>\n      <td>0.0</td>\n      <td>0.0</td>\n      <td>0.0</td>\n      <td>0.0</td>\n      <td>0.0</td>\n    </tr>\n    <tr>\n      <th>4</th>\n      <td>5</td>\n      <td>Father of the Bride Part II</td>\n      <td>[Comedy]</td>\n      <td>1995</td>\n      <td>0.0</td>\n      <td>0.0</td>\n      <td>0.0</td>\n      <td>1.0</td>\n      <td>0.0</td>\n      <td>0.0</td>\n      <td>...</td>\n      <td>0.0</td>\n      <td>0.0</td>\n      <td>0.0</td>\n      <td>0.0</td>\n      <td>0.0</td>\n      <td>0.0</td>\n      <td>0.0</td>\n      <td>0.0</td>\n      <td>0.0</td>\n      <td>0.0</td>\n    </tr>\n  </tbody>\n</table>\n<p>5 rows × 24 columns</p>\n</div>"
     },
     "metadata": {},
     "execution_count": 442
    }
   ],
   "source": [
    "#Copying the movie dataframe into a new one since we won't need to use the genre information in our first case.\n",
    "moviesWithGenres_df = movies_df.copy()\n",
    "\n",
    "#For every row in the dataframe, iterate through the list of genres and place a 1 into the corresponding column\n",
    "for index, row in movies_df.iterrows():\n",
    "    for genre in row['genres']:\n",
    "        moviesWithGenres_df.at[index, genre] = 1\n",
    "#Filling in the NaN values with 0 to show that a movie doesn't have that column's genre\n",
    "moviesWithGenres_df = moviesWithGenres_df.fillna(0)\n",
    "moviesWithGenres_df.head()"
   ]
  },
  {
   "source": [
    "### Now Pre-Processing Ratings DataFrame"
   ],
   "cell_type": "markdown",
   "metadata": {}
  },
  {
   "cell_type": "code",
   "execution_count": 423,
   "metadata": {},
   "outputs": [
    {
     "output_type": "execute_result",
     "data": {
      "text/plain": [
       "   userId  movieId  rating   timestamp\n",
       "0       1      169     2.5  1204927694\n",
       "1       1     2471     3.0  1204927438\n",
       "2       1    48516     5.0  1204927435\n",
       "3       2     2571     3.5  1436165433\n",
       "4       2   109487     4.0  1436165496"
      ],
      "text/html": "<div>\n<style scoped>\n    .dataframe tbody tr th:only-of-type {\n        vertical-align: middle;\n    }\n\n    .dataframe tbody tr th {\n        vertical-align: top;\n    }\n\n    .dataframe thead th {\n        text-align: right;\n    }\n</style>\n<table border=\"1\" class=\"dataframe\">\n  <thead>\n    <tr style=\"text-align: right;\">\n      <th></th>\n      <th>userId</th>\n      <th>movieId</th>\n      <th>rating</th>\n      <th>timestamp</th>\n    </tr>\n  </thead>\n  <tbody>\n    <tr>\n      <th>0</th>\n      <td>1</td>\n      <td>169</td>\n      <td>2.5</td>\n      <td>1204927694</td>\n    </tr>\n    <tr>\n      <th>1</th>\n      <td>1</td>\n      <td>2471</td>\n      <td>3.0</td>\n      <td>1204927438</td>\n    </tr>\n    <tr>\n      <th>2</th>\n      <td>1</td>\n      <td>48516</td>\n      <td>5.0</td>\n      <td>1204927435</td>\n    </tr>\n    <tr>\n      <th>3</th>\n      <td>2</td>\n      <td>2571</td>\n      <td>3.5</td>\n      <td>1436165433</td>\n    </tr>\n    <tr>\n      <th>4</th>\n      <td>2</td>\n      <td>109487</td>\n      <td>4.0</td>\n      <td>1436165496</td>\n    </tr>\n  </tbody>\n</table>\n</div>"
     },
     "metadata": {},
     "execution_count": 423
    }
   ],
   "source": [
    "ratings_df.head()"
   ]
  },
  {
   "cell_type": "code",
   "execution_count": 424,
   "metadata": {},
   "outputs": [
    {
     "output_type": "execute_result",
     "data": {
      "text/plain": [
       "   userId  movieId  rating\n",
       "0       1      169     2.5\n",
       "1       1     2471     3.0\n",
       "2       1    48516     5.0\n",
       "3       2     2571     3.5\n",
       "4       2   109487     4.0"
      ],
      "text/html": "<div>\n<style scoped>\n    .dataframe tbody tr th:only-of-type {\n        vertical-align: middle;\n    }\n\n    .dataframe tbody tr th {\n        vertical-align: top;\n    }\n\n    .dataframe thead th {\n        text-align: right;\n    }\n</style>\n<table border=\"1\" class=\"dataframe\">\n  <thead>\n    <tr style=\"text-align: right;\">\n      <th></th>\n      <th>userId</th>\n      <th>movieId</th>\n      <th>rating</th>\n    </tr>\n  </thead>\n  <tbody>\n    <tr>\n      <th>0</th>\n      <td>1</td>\n      <td>169</td>\n      <td>2.5</td>\n    </tr>\n    <tr>\n      <th>1</th>\n      <td>1</td>\n      <td>2471</td>\n      <td>3.0</td>\n    </tr>\n    <tr>\n      <th>2</th>\n      <td>1</td>\n      <td>48516</td>\n      <td>5.0</td>\n    </tr>\n    <tr>\n      <th>3</th>\n      <td>2</td>\n      <td>2571</td>\n      <td>3.5</td>\n    </tr>\n    <tr>\n      <th>4</th>\n      <td>2</td>\n      <td>109487</td>\n      <td>4.0</td>\n    </tr>\n  </tbody>\n</table>\n</div>"
     },
     "metadata": {},
     "execution_count": 424
    }
   ],
   "source": [
    "#Drop removes a specified row or column from a dataframe\n",
    "ratings_df = ratings_df.drop('timestamp', 1)\n",
    "ratings_df.head()"
   ]
  },
  {
   "source": [
    "## Content-Based recommandation system model"
   ],
   "cell_type": "markdown",
   "metadata": {}
  },
  {
   "cell_type": "code",
   "execution_count": 425,
   "metadata": {},
   "outputs": [
    {
     "output_type": "execute_result",
     "data": {
      "text/plain": [
       "                 title  rating\n",
       "0  Breakfast Club, The     5.0\n",
       "1            Toy Story     3.5\n",
       "2              Jumanji     2.0\n",
       "3         Pulp Fiction     5.0\n",
       "4                Akira     4.5"
      ],
      "text/html": "<div>\n<style scoped>\n    .dataframe tbody tr th:only-of-type {\n        vertical-align: middle;\n    }\n\n    .dataframe tbody tr th {\n        vertical-align: top;\n    }\n\n    .dataframe thead th {\n        text-align: right;\n    }\n</style>\n<table border=\"1\" class=\"dataframe\">\n  <thead>\n    <tr style=\"text-align: right;\">\n      <th></th>\n      <th>title</th>\n      <th>rating</th>\n    </tr>\n  </thead>\n  <tbody>\n    <tr>\n      <th>0</th>\n      <td>Breakfast Club, The</td>\n      <td>5.0</td>\n    </tr>\n    <tr>\n      <th>1</th>\n      <td>Toy Story</td>\n      <td>3.5</td>\n    </tr>\n    <tr>\n      <th>2</th>\n      <td>Jumanji</td>\n      <td>2.0</td>\n    </tr>\n    <tr>\n      <th>3</th>\n      <td>Pulp Fiction</td>\n      <td>5.0</td>\n    </tr>\n    <tr>\n      <th>4</th>\n      <td>Akira</td>\n      <td>4.5</td>\n    </tr>\n  </tbody>\n</table>\n</div>"
     },
     "metadata": {},
     "execution_count": 425
    }
   ],
   "source": [
    "# Sample user\n",
    "userInput = [\n",
    "            {'title':'Breakfast Club, The', 'rating':5},\n",
    "            {'title':'Toy Story', 'rating':3.5},\n",
    "            {'title':'Jumanji', 'rating':2},\n",
    "            {'title':\"Pulp Fiction\", 'rating':5},\n",
    "            {'title':'Akira', 'rating':4.5}\n",
    "         ] \n",
    "inputMovies = pd.DataFrame(userInput)\n",
    "inputMovies"
   ]
  },
  {
   "cell_type": "code",
   "execution_count": 426,
   "metadata": {},
   "outputs": [
    {
     "output_type": "execute_result",
     "data": {
      "text/plain": [
       "   movieId                title  rating\n",
       "0        1            Toy Story     3.5\n",
       "1        2              Jumanji     2.0\n",
       "2      296         Pulp Fiction     5.0\n",
       "3     1274                Akira     4.5\n",
       "4     1968  Breakfast Club, The     5.0"
      ],
      "text/html": "<div>\n<style scoped>\n    .dataframe tbody tr th:only-of-type {\n        vertical-align: middle;\n    }\n\n    .dataframe tbody tr th {\n        vertical-align: top;\n    }\n\n    .dataframe thead th {\n        text-align: right;\n    }\n</style>\n<table border=\"1\" class=\"dataframe\">\n  <thead>\n    <tr style=\"text-align: right;\">\n      <th></th>\n      <th>movieId</th>\n      <th>title</th>\n      <th>rating</th>\n    </tr>\n  </thead>\n  <tbody>\n    <tr>\n      <th>0</th>\n      <td>1</td>\n      <td>Toy Story</td>\n      <td>3.5</td>\n    </tr>\n    <tr>\n      <th>1</th>\n      <td>2</td>\n      <td>Jumanji</td>\n      <td>2.0</td>\n    </tr>\n    <tr>\n      <th>2</th>\n      <td>296</td>\n      <td>Pulp Fiction</td>\n      <td>5.0</td>\n    </tr>\n    <tr>\n      <th>3</th>\n      <td>1274</td>\n      <td>Akira</td>\n      <td>4.5</td>\n    </tr>\n    <tr>\n      <th>4</th>\n      <td>1968</td>\n      <td>Breakfast Club, The</td>\n      <td>5.0</td>\n    </tr>\n  </tbody>\n</table>\n</div>"
     },
     "metadata": {},
     "execution_count": 426
    }
   ],
   "source": [
    "#Filtering out the movies by title\n",
    "inputId = movies_df[movies_df['title'].isin(inputMovies['title'].tolist())]\n",
    "\n",
    "#Then merging it so we can get the movieId. It's implicitly merging it by title.\n",
    "inputMovies = pd.merge(inputId, inputMovies)\n",
    "#Dropping information we won't use from the input dataframe\n",
    "inputMovies = inputMovies.drop('genres', 1).drop('year', 1)\n",
    "#Final input dataframe\n",
    "inputMovies"
   ]
  },
  {
   "cell_type": "code",
   "execution_count": 427,
   "metadata": {},
   "outputs": [
    {
     "output_type": "execute_result",
     "data": {
      "text/plain": [
       "      movieId                title  \\\n",
       "0           1            Toy Story   \n",
       "1           2              Jumanji   \n",
       "293       296         Pulp Fiction   \n",
       "1246     1274                Akira   \n",
       "1885     1968  Breakfast Club, The   \n",
       "\n",
       "                                                 genres  year  Adventure  \\\n",
       "0     [Adventure, Animation, Children, Comedy, Fantasy]  1995        1.0   \n",
       "1                        [Adventure, Children, Fantasy]  1995        1.0   \n",
       "293                    [Comedy, Crime, Drama, Thriller]  1994        0.0   \n",
       "1246             [Action, Adventure, Animation, Sci-Fi]  1988        1.0   \n",
       "1885                                    [Comedy, Drama]  1985        0.0   \n",
       "\n",
       "      Animation  Children  Comedy  Fantasy  Romance  ...  Horror  Mystery  \\\n",
       "0           1.0       1.0     1.0      1.0      0.0  ...     0.0      0.0   \n",
       "1           0.0       1.0     0.0      1.0      0.0  ...     0.0      0.0   \n",
       "293         0.0       0.0     1.0      0.0      0.0  ...     0.0      0.0   \n",
       "1246        1.0       0.0     0.0      0.0      0.0  ...     0.0      0.0   \n",
       "1885        0.0       0.0     1.0      0.0      0.0  ...     0.0      0.0   \n",
       "\n",
       "      Sci-Fi  IMAX  Documentary  War  Musical  Western  Film-Noir  \\\n",
       "0        0.0   0.0          0.0  0.0      0.0      0.0        0.0   \n",
       "1        0.0   0.0          0.0  0.0      0.0      0.0        0.0   \n",
       "293      0.0   0.0          0.0  0.0      0.0      0.0        0.0   \n",
       "1246     1.0   0.0          0.0  0.0      0.0      0.0        0.0   \n",
       "1885     0.0   0.0          0.0  0.0      0.0      0.0        0.0   \n",
       "\n",
       "      (no genres listed)  \n",
       "0                    0.0  \n",
       "1                    0.0  \n",
       "293                  0.0  \n",
       "1246                 0.0  \n",
       "1885                 0.0  \n",
       "\n",
       "[5 rows x 24 columns]"
      ],
      "text/html": "<div>\n<style scoped>\n    .dataframe tbody tr th:only-of-type {\n        vertical-align: middle;\n    }\n\n    .dataframe tbody tr th {\n        vertical-align: top;\n    }\n\n    .dataframe thead th {\n        text-align: right;\n    }\n</style>\n<table border=\"1\" class=\"dataframe\">\n  <thead>\n    <tr style=\"text-align: right;\">\n      <th></th>\n      <th>movieId</th>\n      <th>title</th>\n      <th>genres</th>\n      <th>year</th>\n      <th>Adventure</th>\n      <th>Animation</th>\n      <th>Children</th>\n      <th>Comedy</th>\n      <th>Fantasy</th>\n      <th>Romance</th>\n      <th>...</th>\n      <th>Horror</th>\n      <th>Mystery</th>\n      <th>Sci-Fi</th>\n      <th>IMAX</th>\n      <th>Documentary</th>\n      <th>War</th>\n      <th>Musical</th>\n      <th>Western</th>\n      <th>Film-Noir</th>\n      <th>(no genres listed)</th>\n    </tr>\n  </thead>\n  <tbody>\n    <tr>\n      <th>0</th>\n      <td>1</td>\n      <td>Toy Story</td>\n      <td>[Adventure, Animation, Children, Comedy, Fantasy]</td>\n      <td>1995</td>\n      <td>1.0</td>\n      <td>1.0</td>\n      <td>1.0</td>\n      <td>1.0</td>\n      <td>1.0</td>\n      <td>0.0</td>\n      <td>...</td>\n      <td>0.0</td>\n      <td>0.0</td>\n      <td>0.0</td>\n      <td>0.0</td>\n      <td>0.0</td>\n      <td>0.0</td>\n      <td>0.0</td>\n      <td>0.0</td>\n      <td>0.0</td>\n      <td>0.0</td>\n    </tr>\n    <tr>\n      <th>1</th>\n      <td>2</td>\n      <td>Jumanji</td>\n      <td>[Adventure, Children, Fantasy]</td>\n      <td>1995</td>\n      <td>1.0</td>\n      <td>0.0</td>\n      <td>1.0</td>\n      <td>0.0</td>\n      <td>1.0</td>\n      <td>0.0</td>\n      <td>...</td>\n      <td>0.0</td>\n      <td>0.0</td>\n      <td>0.0</td>\n      <td>0.0</td>\n      <td>0.0</td>\n      <td>0.0</td>\n      <td>0.0</td>\n      <td>0.0</td>\n      <td>0.0</td>\n      <td>0.0</td>\n    </tr>\n    <tr>\n      <th>293</th>\n      <td>296</td>\n      <td>Pulp Fiction</td>\n      <td>[Comedy, Crime, Drama, Thriller]</td>\n      <td>1994</td>\n      <td>0.0</td>\n      <td>0.0</td>\n      <td>0.0</td>\n      <td>1.0</td>\n      <td>0.0</td>\n      <td>0.0</td>\n      <td>...</td>\n      <td>0.0</td>\n      <td>0.0</td>\n      <td>0.0</td>\n      <td>0.0</td>\n      <td>0.0</td>\n      <td>0.0</td>\n      <td>0.0</td>\n      <td>0.0</td>\n      <td>0.0</td>\n      <td>0.0</td>\n    </tr>\n    <tr>\n      <th>1246</th>\n      <td>1274</td>\n      <td>Akira</td>\n      <td>[Action, Adventure, Animation, Sci-Fi]</td>\n      <td>1988</td>\n      <td>1.0</td>\n      <td>1.0</td>\n      <td>0.0</td>\n      <td>0.0</td>\n      <td>0.0</td>\n      <td>0.0</td>\n      <td>...</td>\n      <td>0.0</td>\n      <td>0.0</td>\n      <td>1.0</td>\n      <td>0.0</td>\n      <td>0.0</td>\n      <td>0.0</td>\n      <td>0.0</td>\n      <td>0.0</td>\n      <td>0.0</td>\n      <td>0.0</td>\n    </tr>\n    <tr>\n      <th>1885</th>\n      <td>1968</td>\n      <td>Breakfast Club, The</td>\n      <td>[Comedy, Drama]</td>\n      <td>1985</td>\n      <td>0.0</td>\n      <td>0.0</td>\n      <td>0.0</td>\n      <td>1.0</td>\n      <td>0.0</td>\n      <td>0.0</td>\n      <td>...</td>\n      <td>0.0</td>\n      <td>0.0</td>\n      <td>0.0</td>\n      <td>0.0</td>\n      <td>0.0</td>\n      <td>0.0</td>\n      <td>0.0</td>\n      <td>0.0</td>\n      <td>0.0</td>\n      <td>0.0</td>\n    </tr>\n  </tbody>\n</table>\n<p>5 rows × 24 columns</p>\n</div>"
     },
     "metadata": {},
     "execution_count": 427
    }
   ],
   "source": [
    "#Filtering out the movies from the input\n",
    "userMovies = moviesWithGenres_df[moviesWithGenres_df['movieId'].isin(inputMovies['movieId'].tolist())]\n",
    "userMovies"
   ]
  },
  {
   "cell_type": "code",
   "execution_count": 428,
   "metadata": {},
   "outputs": [
    {
     "output_type": "execute_result",
     "data": {
      "text/plain": [
       "   Adventure  Animation  Children  Comedy  Fantasy  Romance  Drama  Action  \\\n",
       "0        1.0        1.0       1.0     1.0      1.0      0.0    0.0     0.0   \n",
       "1        1.0        0.0       1.0     0.0      1.0      0.0    0.0     0.0   \n",
       "2        0.0        0.0       0.0     1.0      0.0      0.0    1.0     0.0   \n",
       "3        1.0        1.0       0.0     0.0      0.0      0.0    0.0     1.0   \n",
       "4        0.0        0.0       0.0     1.0      0.0      0.0    1.0     0.0   \n",
       "\n",
       "   Crime  Thriller  Horror  Mystery  Sci-Fi  IMAX  Documentary  War  Musical  \\\n",
       "0    0.0       0.0     0.0      0.0     0.0   0.0          0.0  0.0      0.0   \n",
       "1    0.0       0.0     0.0      0.0     0.0   0.0          0.0  0.0      0.0   \n",
       "2    1.0       1.0     0.0      0.0     0.0   0.0          0.0  0.0      0.0   \n",
       "3    0.0       0.0     0.0      0.0     1.0   0.0          0.0  0.0      0.0   \n",
       "4    0.0       0.0     0.0      0.0     0.0   0.0          0.0  0.0      0.0   \n",
       "\n",
       "   Western  Film-Noir  (no genres listed)  \n",
       "0      0.0        0.0                 0.0  \n",
       "1      0.0        0.0                 0.0  \n",
       "2      0.0        0.0                 0.0  \n",
       "3      0.0        0.0                 0.0  \n",
       "4      0.0        0.0                 0.0  "
      ],
      "text/html": "<div>\n<style scoped>\n    .dataframe tbody tr th:only-of-type {\n        vertical-align: middle;\n    }\n\n    .dataframe tbody tr th {\n        vertical-align: top;\n    }\n\n    .dataframe thead th {\n        text-align: right;\n    }\n</style>\n<table border=\"1\" class=\"dataframe\">\n  <thead>\n    <tr style=\"text-align: right;\">\n      <th></th>\n      <th>Adventure</th>\n      <th>Animation</th>\n      <th>Children</th>\n      <th>Comedy</th>\n      <th>Fantasy</th>\n      <th>Romance</th>\n      <th>Drama</th>\n      <th>Action</th>\n      <th>Crime</th>\n      <th>Thriller</th>\n      <th>Horror</th>\n      <th>Mystery</th>\n      <th>Sci-Fi</th>\n      <th>IMAX</th>\n      <th>Documentary</th>\n      <th>War</th>\n      <th>Musical</th>\n      <th>Western</th>\n      <th>Film-Noir</th>\n      <th>(no genres listed)</th>\n    </tr>\n  </thead>\n  <tbody>\n    <tr>\n      <th>0</th>\n      <td>1.0</td>\n      <td>1.0</td>\n      <td>1.0</td>\n      <td>1.0</td>\n      <td>1.0</td>\n      <td>0.0</td>\n      <td>0.0</td>\n      <td>0.0</td>\n      <td>0.0</td>\n      <td>0.0</td>\n      <td>0.0</td>\n      <td>0.0</td>\n      <td>0.0</td>\n      <td>0.0</td>\n      <td>0.0</td>\n      <td>0.0</td>\n      <td>0.0</td>\n      <td>0.0</td>\n      <td>0.0</td>\n      <td>0.0</td>\n    </tr>\n    <tr>\n      <th>1</th>\n      <td>1.0</td>\n      <td>0.0</td>\n      <td>1.0</td>\n      <td>0.0</td>\n      <td>1.0</td>\n      <td>0.0</td>\n      <td>0.0</td>\n      <td>0.0</td>\n      <td>0.0</td>\n      <td>0.0</td>\n      <td>0.0</td>\n      <td>0.0</td>\n      <td>0.0</td>\n      <td>0.0</td>\n      <td>0.0</td>\n      <td>0.0</td>\n      <td>0.0</td>\n      <td>0.0</td>\n      <td>0.0</td>\n      <td>0.0</td>\n    </tr>\n    <tr>\n      <th>2</th>\n      <td>0.0</td>\n      <td>0.0</td>\n      <td>0.0</td>\n      <td>1.0</td>\n      <td>0.0</td>\n      <td>0.0</td>\n      <td>1.0</td>\n      <td>0.0</td>\n      <td>1.0</td>\n      <td>1.0</td>\n      <td>0.0</td>\n      <td>0.0</td>\n      <td>0.0</td>\n      <td>0.0</td>\n      <td>0.0</td>\n      <td>0.0</td>\n      <td>0.0</td>\n      <td>0.0</td>\n      <td>0.0</td>\n      <td>0.0</td>\n    </tr>\n    <tr>\n      <th>3</th>\n      <td>1.0</td>\n      <td>1.0</td>\n      <td>0.0</td>\n      <td>0.0</td>\n      <td>0.0</td>\n      <td>0.0</td>\n      <td>0.0</td>\n      <td>1.0</td>\n      <td>0.0</td>\n      <td>0.0</td>\n      <td>0.0</td>\n      <td>0.0</td>\n      <td>1.0</td>\n      <td>0.0</td>\n      <td>0.0</td>\n      <td>0.0</td>\n      <td>0.0</td>\n      <td>0.0</td>\n      <td>0.0</td>\n      <td>0.0</td>\n    </tr>\n    <tr>\n      <th>4</th>\n      <td>0.0</td>\n      <td>0.0</td>\n      <td>0.0</td>\n      <td>1.0</td>\n      <td>0.0</td>\n      <td>0.0</td>\n      <td>1.0</td>\n      <td>0.0</td>\n      <td>0.0</td>\n      <td>0.0</td>\n      <td>0.0</td>\n      <td>0.0</td>\n      <td>0.0</td>\n      <td>0.0</td>\n      <td>0.0</td>\n      <td>0.0</td>\n      <td>0.0</td>\n      <td>0.0</td>\n      <td>0.0</td>\n      <td>0.0</td>\n    </tr>\n  </tbody>\n</table>\n</div>"
     },
     "metadata": {},
     "execution_count": 428
    }
   ],
   "source": [
    "#Resetting the index to avoid future issues\n",
    "userMovies = userMovies.reset_index(drop=True)\n",
    "#Dropping unnecessary issues due to save memory and to avoid issues\n",
    "userGenreTable = userMovies.drop('movieId', 1).drop('title', 1).drop('genres', 1).drop('year', 1)\n",
    "userGenreTable"
   ]
  },
  {
   "source": [
    "Now we start learning the input's preferences!\n",
    "\n",
    "To do this, we're going to turn each genre into weights. We can do this by using the input's reviews and multiplying them into the input's genre table and then summing up the resulting table by column. This operation is actually a dot product between a matrix and a vector, so we can simply accomplish by calling Pandas's \"dot\" function."
   ],
   "cell_type": "markdown",
   "metadata": {}
  },
  {
   "cell_type": "code",
   "execution_count": 429,
   "metadata": {},
   "outputs": [
    {
     "output_type": "execute_result",
     "data": {
      "text/plain": [
       "0    3.5\n",
       "1    2.0\n",
       "2    5.0\n",
       "3    4.5\n",
       "4    5.0\n",
       "Name: rating, dtype: float64"
      ]
     },
     "metadata": {},
     "execution_count": 429
    }
   ],
   "source": [
    "inputMovies['rating']"
   ]
  },
  {
   "cell_type": "code",
   "execution_count": 430,
   "metadata": {},
   "outputs": [
    {
     "output_type": "execute_result",
     "data": {
      "text/plain": [
       "Adventure             10.0\n",
       "Animation              8.0\n",
       "Children               5.5\n",
       "Comedy                13.5\n",
       "Fantasy                5.5\n",
       "Romance                0.0\n",
       "Drama                 10.0\n",
       "Action                 4.5\n",
       "Crime                  5.0\n",
       "Thriller               5.0\n",
       "Horror                 0.0\n",
       "Mystery                0.0\n",
       "Sci-Fi                 4.5\n",
       "IMAX                   0.0\n",
       "Documentary            0.0\n",
       "War                    0.0\n",
       "Musical                0.0\n",
       "Western                0.0\n",
       "Film-Noir              0.0\n",
       "(no genres listed)     0.0\n",
       "dtype: float64"
      ]
     },
     "metadata": {},
     "execution_count": 430
    }
   ],
   "source": [
    "#Dot produt to get weights\n",
    "userProfile = userGenreTable.transpose().dot(inputMovies['rating'])\n",
    "#The user profile\n",
    "userProfile"
   ]
  },
  {
   "source": [
    "Now, we have the weights for every of the user's preferences. This is known as the User Profile. Using this, we can recommend movies that satisfy the user's preferences."
   ],
   "cell_type": "markdown",
   "metadata": {}
  },
  {
   "cell_type": "code",
   "execution_count": 443,
   "metadata": {},
   "outputs": [
    {
     "output_type": "execute_result",
     "data": {
      "text/plain": [
       "         Adventure  Animation  Children  Comedy  Fantasy  Romance  Drama  \\\n",
       "movieId                                                                    \n",
       "1              1.0        1.0       1.0     1.0      1.0      0.0    0.0   \n",
       "2              1.0        0.0       1.0     0.0      1.0      0.0    0.0   \n",
       "3              0.0        0.0       0.0     1.0      0.0      1.0    0.0   \n",
       "4              0.0        0.0       0.0     1.0      0.0      1.0    1.0   \n",
       "5              0.0        0.0       0.0     1.0      0.0      0.0    0.0   \n",
       "\n",
       "         Action  Crime  Thriller  Horror  Mystery  Sci-Fi  IMAX  Documentary  \\\n",
       "movieId                                                                        \n",
       "1           0.0    0.0       0.0     0.0      0.0     0.0   0.0          0.0   \n",
       "2           0.0    0.0       0.0     0.0      0.0     0.0   0.0          0.0   \n",
       "3           0.0    0.0       0.0     0.0      0.0     0.0   0.0          0.0   \n",
       "4           0.0    0.0       0.0     0.0      0.0     0.0   0.0          0.0   \n",
       "5           0.0    0.0       0.0     0.0      0.0     0.0   0.0          0.0   \n",
       "\n",
       "         War  Musical  Western  Film-Noir  (no genres listed)  \n",
       "movieId                                                        \n",
       "1        0.0      0.0      0.0        0.0                 0.0  \n",
       "2        0.0      0.0      0.0        0.0                 0.0  \n",
       "3        0.0      0.0      0.0        0.0                 0.0  \n",
       "4        0.0      0.0      0.0        0.0                 0.0  \n",
       "5        0.0      0.0      0.0        0.0                 0.0  "
      ],
      "text/html": "<div>\n<style scoped>\n    .dataframe tbody tr th:only-of-type {\n        vertical-align: middle;\n    }\n\n    .dataframe tbody tr th {\n        vertical-align: top;\n    }\n\n    .dataframe thead th {\n        text-align: right;\n    }\n</style>\n<table border=\"1\" class=\"dataframe\">\n  <thead>\n    <tr style=\"text-align: right;\">\n      <th></th>\n      <th>Adventure</th>\n      <th>Animation</th>\n      <th>Children</th>\n      <th>Comedy</th>\n      <th>Fantasy</th>\n      <th>Romance</th>\n      <th>Drama</th>\n      <th>Action</th>\n      <th>Crime</th>\n      <th>Thriller</th>\n      <th>Horror</th>\n      <th>Mystery</th>\n      <th>Sci-Fi</th>\n      <th>IMAX</th>\n      <th>Documentary</th>\n      <th>War</th>\n      <th>Musical</th>\n      <th>Western</th>\n      <th>Film-Noir</th>\n      <th>(no genres listed)</th>\n    </tr>\n    <tr>\n      <th>movieId</th>\n      <th></th>\n      <th></th>\n      <th></th>\n      <th></th>\n      <th></th>\n      <th></th>\n      <th></th>\n      <th></th>\n      <th></th>\n      <th></th>\n      <th></th>\n      <th></th>\n      <th></th>\n      <th></th>\n      <th></th>\n      <th></th>\n      <th></th>\n      <th></th>\n      <th></th>\n      <th></th>\n    </tr>\n  </thead>\n  <tbody>\n    <tr>\n      <th>1</th>\n      <td>1.0</td>\n      <td>1.0</td>\n      <td>1.0</td>\n      <td>1.0</td>\n      <td>1.0</td>\n      <td>0.0</td>\n      <td>0.0</td>\n      <td>0.0</td>\n      <td>0.0</td>\n      <td>0.0</td>\n      <td>0.0</td>\n      <td>0.0</td>\n      <td>0.0</td>\n      <td>0.0</td>\n      <td>0.0</td>\n      <td>0.0</td>\n      <td>0.0</td>\n      <td>0.0</td>\n      <td>0.0</td>\n      <td>0.0</td>\n    </tr>\n    <tr>\n      <th>2</th>\n      <td>1.0</td>\n      <td>0.0</td>\n      <td>1.0</td>\n      <td>0.0</td>\n      <td>1.0</td>\n      <td>0.0</td>\n      <td>0.0</td>\n      <td>0.0</td>\n      <td>0.0</td>\n      <td>0.0</td>\n      <td>0.0</td>\n      <td>0.0</td>\n      <td>0.0</td>\n      <td>0.0</td>\n      <td>0.0</td>\n      <td>0.0</td>\n      <td>0.0</td>\n      <td>0.0</td>\n      <td>0.0</td>\n      <td>0.0</td>\n    </tr>\n    <tr>\n      <th>3</th>\n      <td>0.0</td>\n      <td>0.0</td>\n      <td>0.0</td>\n      <td>1.0</td>\n      <td>0.0</td>\n      <td>1.0</td>\n      <td>0.0</td>\n      <td>0.0</td>\n      <td>0.0</td>\n      <td>0.0</td>\n      <td>0.0</td>\n      <td>0.0</td>\n      <td>0.0</td>\n      <td>0.0</td>\n      <td>0.0</td>\n      <td>0.0</td>\n      <td>0.0</td>\n      <td>0.0</td>\n      <td>0.0</td>\n      <td>0.0</td>\n    </tr>\n    <tr>\n      <th>4</th>\n      <td>0.0</td>\n      <td>0.0</td>\n      <td>0.0</td>\n      <td>1.0</td>\n      <td>0.0</td>\n      <td>1.0</td>\n      <td>1.0</td>\n      <td>0.0</td>\n      <td>0.0</td>\n      <td>0.0</td>\n      <td>0.0</td>\n      <td>0.0</td>\n      <td>0.0</td>\n      <td>0.0</td>\n      <td>0.0</td>\n      <td>0.0</td>\n      <td>0.0</td>\n      <td>0.0</td>\n      <td>0.0</td>\n      <td>0.0</td>\n    </tr>\n    <tr>\n      <th>5</th>\n      <td>0.0</td>\n      <td>0.0</td>\n      <td>0.0</td>\n      <td>1.0</td>\n      <td>0.0</td>\n      <td>0.0</td>\n      <td>0.0</td>\n      <td>0.0</td>\n      <td>0.0</td>\n      <td>0.0</td>\n      <td>0.0</td>\n      <td>0.0</td>\n      <td>0.0</td>\n      <td>0.0</td>\n      <td>0.0</td>\n      <td>0.0</td>\n      <td>0.0</td>\n      <td>0.0</td>\n      <td>0.0</td>\n      <td>0.0</td>\n    </tr>\n  </tbody>\n</table>\n</div>"
     },
     "metadata": {},
     "execution_count": 443
    }
   ],
   "source": [
    "#Now let's get the genres of every movie in our original dataframe\n",
    "genreTable = moviesWithGenres_df.set_index(moviesWithGenres_df['movieId'])\n",
    "#And drop the unnecessary information\n",
    "genreTable = genreTable.drop('movieId',1).drop('title',1).drop('genres', 1).drop('year', 1)\n",
    "genreTable.head()"
   ]
  },
  {
   "cell_type": "code",
   "execution_count": 432,
   "metadata": {},
   "outputs": [
    {
     "output_type": "execute_result",
     "data": {
      "text/plain": [
       "(34208, 20)"
      ]
     },
     "metadata": {},
     "execution_count": 432
    }
   ],
   "source": [
    "genreTable.shape"
   ]
  },
  {
   "source": [
    "With the input's profile and the complete list of movies and their genres in hand, we're going to take the weighted average of every movie based on the input profile and recommend the top twenty movies that most satisfy it."
   ],
   "cell_type": "markdown",
   "metadata": {}
  },
  {
   "source": [],
   "cell_type": "markdown",
   "metadata": {}
  },
  {
   "cell_type": "code",
   "execution_count": 444,
   "metadata": {},
   "outputs": [
    {
     "output_type": "execute_result",
     "data": {
      "text/plain": [
       "movieId\n",
       "1         0.594406\n",
       "2         0.293706\n",
       "3         0.188811\n",
       "4         0.328671\n",
       "5         0.188811\n",
       "            ...   \n",
       "151697    0.069930\n",
       "151701    0.000000\n",
       "151703    0.139860\n",
       "151709    0.202797\n",
       "151711    0.000000\n",
       "Name: rating, Length: 34208, dtype: float64"
      ]
     },
     "metadata": {},
     "execution_count": 444
    }
   ],
   "source": [
    "#Multiply the genres by the weights and then take the weighted average\n",
    "recommendationTable_df = ((genreTable*userProfile).sum(axis=1))/(userProfile.sum())\n",
    "recommendationTable_df = recommendationTable_df.rename('rating')\n",
    "recommendationTable_df"
   ]
  },
  {
   "cell_type": "code",
   "execution_count": 445,
   "metadata": {},
   "outputs": [
    {
     "output_type": "execute_result",
     "data": {
      "text/plain": [
       "       movieId    rating\n",
       "0            1  0.594406\n",
       "1            2  0.293706\n",
       "2            3  0.188811\n",
       "3            4  0.328671\n",
       "4            5  0.188811\n",
       "...        ...       ...\n",
       "34203   151697  0.069930\n",
       "34204   151701  0.000000\n",
       "34205   151703  0.139860\n",
       "34206   151709  0.202797\n",
       "34207   151711  0.000000\n",
       "\n",
       "[34208 rows x 2 columns]"
      ],
      "text/html": "<div>\n<style scoped>\n    .dataframe tbody tr th:only-of-type {\n        vertical-align: middle;\n    }\n\n    .dataframe tbody tr th {\n        vertical-align: top;\n    }\n\n    .dataframe thead th {\n        text-align: right;\n    }\n</style>\n<table border=\"1\" class=\"dataframe\">\n  <thead>\n    <tr style=\"text-align: right;\">\n      <th></th>\n      <th>movieId</th>\n      <th>rating</th>\n    </tr>\n  </thead>\n  <tbody>\n    <tr>\n      <th>0</th>\n      <td>1</td>\n      <td>0.594406</td>\n    </tr>\n    <tr>\n      <th>1</th>\n      <td>2</td>\n      <td>0.293706</td>\n    </tr>\n    <tr>\n      <th>2</th>\n      <td>3</td>\n      <td>0.188811</td>\n    </tr>\n    <tr>\n      <th>3</th>\n      <td>4</td>\n      <td>0.328671</td>\n    </tr>\n    <tr>\n      <th>4</th>\n      <td>5</td>\n      <td>0.188811</td>\n    </tr>\n    <tr>\n      <th>...</th>\n      <td>...</td>\n      <td>...</td>\n    </tr>\n    <tr>\n      <th>34203</th>\n      <td>151697</td>\n      <td>0.069930</td>\n    </tr>\n    <tr>\n      <th>34204</th>\n      <td>151701</td>\n      <td>0.000000</td>\n    </tr>\n    <tr>\n      <th>34205</th>\n      <td>151703</td>\n      <td>0.139860</td>\n    </tr>\n    <tr>\n      <th>34206</th>\n      <td>151709</td>\n      <td>0.202797</td>\n    </tr>\n    <tr>\n      <th>34207</th>\n      <td>151711</td>\n      <td>0.000000</td>\n    </tr>\n  </tbody>\n</table>\n<p>34208 rows × 2 columns</p>\n</div>"
     },
     "metadata": {},
     "execution_count": 445
    }
   ],
   "source": [
    "recommendationTable_df= recommendationTable_df.to_frame().reset_index()\n",
    "recommendationTable_df"
   ]
  },
  {
   "cell_type": "code",
   "execution_count": 453,
   "metadata": {},
   "outputs": [
    {
     "output_type": "execute_result",
     "data": {
      "text/plain": [
       "   movieId_x                        title  \\\n",
       "0          1                    Toy Story   \n",
       "1          2                      Jumanji   \n",
       "2          3             Grumpier Old Men   \n",
       "3          4            Waiting to Exhale   \n",
       "4          5  Father of the Bride Part II   \n",
       "\n",
       "                                              genres  year  movieId_y  \\\n",
       "0  [Adventure, Animation, Children, Comedy, Fantasy]  1995          1   \n",
       "1                     [Adventure, Children, Fantasy]  1995          2   \n",
       "2                                  [Comedy, Romance]  1995          3   \n",
       "3                           [Comedy, Drama, Romance]  1995          4   \n",
       "4                                           [Comedy]  1995          5   \n",
       "\n",
       "     rating  \n",
       "0  0.594406  \n",
       "1  0.293706  \n",
       "2  0.188811  \n",
       "3  0.328671  \n",
       "4  0.188811  "
      ],
      "text/html": "<div>\n<style scoped>\n    .dataframe tbody tr th:only-of-type {\n        vertical-align: middle;\n    }\n\n    .dataframe tbody tr th {\n        vertical-align: top;\n    }\n\n    .dataframe thead th {\n        text-align: right;\n    }\n</style>\n<table border=\"1\" class=\"dataframe\">\n  <thead>\n    <tr style=\"text-align: right;\">\n      <th></th>\n      <th>movieId_x</th>\n      <th>title</th>\n      <th>genres</th>\n      <th>year</th>\n      <th>movieId_y</th>\n      <th>rating</th>\n    </tr>\n  </thead>\n  <tbody>\n    <tr>\n      <th>0</th>\n      <td>1</td>\n      <td>Toy Story</td>\n      <td>[Adventure, Animation, Children, Comedy, Fantasy]</td>\n      <td>1995</td>\n      <td>1</td>\n      <td>0.594406</td>\n    </tr>\n    <tr>\n      <th>1</th>\n      <td>2</td>\n      <td>Jumanji</td>\n      <td>[Adventure, Children, Fantasy]</td>\n      <td>1995</td>\n      <td>2</td>\n      <td>0.293706</td>\n    </tr>\n    <tr>\n      <th>2</th>\n      <td>3</td>\n      <td>Grumpier Old Men</td>\n      <td>[Comedy, Romance]</td>\n      <td>1995</td>\n      <td>3</td>\n      <td>0.188811</td>\n    </tr>\n    <tr>\n      <th>3</th>\n      <td>4</td>\n      <td>Waiting to Exhale</td>\n      <td>[Comedy, Drama, Romance]</td>\n      <td>1995</td>\n      <td>4</td>\n      <td>0.328671</td>\n    </tr>\n    <tr>\n      <th>4</th>\n      <td>5</td>\n      <td>Father of the Bride Part II</td>\n      <td>[Comedy]</td>\n      <td>1995</td>\n      <td>5</td>\n      <td>0.188811</td>\n    </tr>\n  </tbody>\n</table>\n</div>"
     },
     "metadata": {},
     "execution_count": 453
    }
   ],
   "source": [
    "# Merge movie data frame with recommendation series\n",
    "recommendation_list = pd.merge(movies_df, recommendationTable_df, right_index= True, left_index= True)\n",
    "\n",
    "# Drop extra movie id\n",
    "recommendation_list = recommendation_list.reset_index(drop=True)\n",
    "\n",
    "recommendation_list.head()"
   ]
  },
  {
   "cell_type": "code",
   "execution_count": 454,
   "metadata": {},
   "outputs": [
    {
     "output_type": "execute_result",
     "data": {
      "text/plain": [
       "   movieId                                              title  \\\n",
       "0     5018                                           Motorama   \n",
       "1    26093         Wonderful World of the Brothers Grimm, The   \n",
       "2    27344  Revolutionary Girl Utena: Adolescence of Utena...   \n",
       "3   148775                Wizards of Waverly Place: The Movie   \n",
       "4     6902                                      Interstate 60   \n",
       "\n",
       "                                              genres  year    rating  \n",
       "0  [Adventure, Comedy, Crime, Drama, Fantasy, Mys...  1991  0.748252  \n",
       "1  [Adventure, Animation, Children, Comedy, Drama...  1962  0.734266  \n",
       "2  [Action, Adventure, Animation, Comedy, Drama, ...  1999  0.720280  \n",
       "3  [Adventure, Children, Comedy, Drama, Fantasy, ...  2009  0.685315  \n",
       "4  [Adventure, Comedy, Drama, Fantasy, Mystery, S...  2002  0.678322  "
      ],
      "text/html": "<div>\n<style scoped>\n    .dataframe tbody tr th:only-of-type {\n        vertical-align: middle;\n    }\n\n    .dataframe tbody tr th {\n        vertical-align: top;\n    }\n\n    .dataframe thead th {\n        text-align: right;\n    }\n</style>\n<table border=\"1\" class=\"dataframe\">\n  <thead>\n    <tr style=\"text-align: right;\">\n      <th></th>\n      <th>movieId</th>\n      <th>title</th>\n      <th>genres</th>\n      <th>year</th>\n      <th>rating</th>\n    </tr>\n  </thead>\n  <tbody>\n    <tr>\n      <th>0</th>\n      <td>5018</td>\n      <td>Motorama</td>\n      <td>[Adventure, Comedy, Crime, Drama, Fantasy, Mys...</td>\n      <td>1991</td>\n      <td>0.748252</td>\n    </tr>\n    <tr>\n      <th>1</th>\n      <td>26093</td>\n      <td>Wonderful World of the Brothers Grimm, The</td>\n      <td>[Adventure, Animation, Children, Comedy, Drama...</td>\n      <td>1962</td>\n      <td>0.734266</td>\n    </tr>\n    <tr>\n      <th>2</th>\n      <td>27344</td>\n      <td>Revolutionary Girl Utena: Adolescence of Utena...</td>\n      <td>[Action, Adventure, Animation, Comedy, Drama, ...</td>\n      <td>1999</td>\n      <td>0.720280</td>\n    </tr>\n    <tr>\n      <th>3</th>\n      <td>148775</td>\n      <td>Wizards of Waverly Place: The Movie</td>\n      <td>[Adventure, Children, Comedy, Drama, Fantasy, ...</td>\n      <td>2009</td>\n      <td>0.685315</td>\n    </tr>\n    <tr>\n      <th>4</th>\n      <td>6902</td>\n      <td>Interstate 60</td>\n      <td>[Adventure, Comedy, Drama, Fantasy, Mystery, S...</td>\n      <td>2002</td>\n      <td>0.678322</td>\n    </tr>\n  </tbody>\n</table>\n</div>"
     },
     "metadata": {},
     "execution_count": 454
    }
   ],
   "source": [
    "# drop extra columns\n",
    "recommendation_list = recommendation_list.drop('movieId_y', 1)\n",
    "recommendation_list = recommendation_list.rename(columns={'movieId_x' : 'movieId'})\n",
    "# Sort our recommendations in descending order\n",
    "recommendation_list = recommendation_list.sort_values('rating', ascending=False)\n",
    "recommendation_list = recommendation_list.reset_index(drop=True)\n",
    "#Just a peek at the values\n",
    "recommendation_list.head()"
   ]
  }
 ]
}